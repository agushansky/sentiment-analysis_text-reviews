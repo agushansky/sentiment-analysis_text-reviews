{
 "cells": [
  {
   "cell_type": "code",
   "execution_count": 1,
   "metadata": {},
   "outputs": [],
   "source": [
    "import pandas as pd\n",
    "from sklearn.model_selection import train_test_split\n",
    "from sklearn.feature_extraction.text import CountVectorizer\n",
    "from sklearn.linear_model import SGDClassifier\n",
    "from sklearn.metrics import classification_report\n",
    "from sklearn.linear_model import LogisticRegression\n",
    "import numpy as np"
   ]
  },
  {
   "cell_type": "code",
   "execution_count": 2,
   "metadata": {},
   "outputs": [
    {
     "data": {
      "text/html": [
       "<div>\n",
       "<style scoped>\n",
       "    .dataframe tbody tr th:only-of-type {\n",
       "        vertical-align: middle;\n",
       "    }\n",
       "\n",
       "    .dataframe tbody tr th {\n",
       "        vertical-align: top;\n",
       "    }\n",
       "\n",
       "    .dataframe thead th {\n",
       "        text-align: right;\n",
       "    }\n",
       "</style>\n",
       "<table border=\"1\" class=\"dataframe\">\n",
       "  <thead>\n",
       "    <tr style=\"text-align: right;\">\n",
       "      <th></th>\n",
       "      <th>reviewer</th>\n",
       "      <th>rating</th>\n",
       "      <th>written_date</th>\n",
       "      <th>title</th>\n",
       "      <th>review_text</th>\n",
       "      <th>branch</th>\n",
       "    </tr>\n",
       "  </thead>\n",
       "  <tbody>\n",
       "    <tr>\n",
       "      <th>0</th>\n",
       "      <td>Kelly B</td>\n",
       "      <td>2.0</td>\n",
       "      <td>May 30, 2021</td>\n",
       "      <td>Universal is a complete Disaster - stick with ...</td>\n",
       "      <td>We went to Universal over Memorial Day weekend...</td>\n",
       "      <td>Universal Studios Florida</td>\n",
       "    </tr>\n",
       "    <tr>\n",
       "      <th>1</th>\n",
       "      <td>Jon</td>\n",
       "      <td>1.0</td>\n",
       "      <td>May 30, 2021</td>\n",
       "      <td>Food is hard to get.</td>\n",
       "      <td>The food service is horrible. I’m not reviewin...</td>\n",
       "      <td>Universal Studios Florida</td>\n",
       "    </tr>\n",
       "    <tr>\n",
       "      <th>2</th>\n",
       "      <td>Nerdy P</td>\n",
       "      <td>2.0</td>\n",
       "      <td>May 30, 2021</td>\n",
       "      <td>Disappointed</td>\n",
       "      <td>I booked this vacation mainly to ride Hagrid m...</td>\n",
       "      <td>Universal Studios Florida</td>\n",
       "    </tr>\n",
       "    <tr>\n",
       "      <th>3</th>\n",
       "      <td>ran101278</td>\n",
       "      <td>4.0</td>\n",
       "      <td>May 29, 2021</td>\n",
       "      <td>My opinion</td>\n",
       "      <td>When a person tries the test seat for the ride...</td>\n",
       "      <td>Universal Studios Florida</td>\n",
       "    </tr>\n",
       "    <tr>\n",
       "      <th>4</th>\n",
       "      <td>tammies20132015</td>\n",
       "      <td>5.0</td>\n",
       "      <td>May 28, 2021</td>\n",
       "      <td>The Bourne Stuntacular...MUST SEE</td>\n",
       "      <td>Ok, I can't stress enough to anyone and everyo...</td>\n",
       "      <td>Universal Studios Florida</td>\n",
       "    </tr>\n",
       "  </tbody>\n",
       "</table>\n",
       "</div>"
      ],
      "text/plain": [
       "          reviewer  rating  written_date  \\\n",
       "0          Kelly B     2.0  May 30, 2021   \n",
       "1              Jon     1.0  May 30, 2021   \n",
       "2          Nerdy P     2.0  May 30, 2021   \n",
       "3        ran101278     4.0  May 29, 2021   \n",
       "4  tammies20132015     5.0  May 28, 2021   \n",
       "\n",
       "                                               title  \\\n",
       "0  Universal is a complete Disaster - stick with ...   \n",
       "1                               Food is hard to get.   \n",
       "2                                       Disappointed   \n",
       "3                                         My opinion   \n",
       "4                  The Bourne Stuntacular...MUST SEE   \n",
       "\n",
       "                                         review_text  \\\n",
       "0  We went to Universal over Memorial Day weekend...   \n",
       "1  The food service is horrible. I’m not reviewin...   \n",
       "2  I booked this vacation mainly to ride Hagrid m...   \n",
       "3  When a person tries the test seat for the ride...   \n",
       "4  Ok, I can't stress enough to anyone and everyo...   \n",
       "\n",
       "                      branch  \n",
       "0  Universal Studios Florida  \n",
       "1  Universal Studios Florida  \n",
       "2  Universal Studios Florida  \n",
       "3  Universal Studios Florida  \n",
       "4  Universal Studios Florida  "
      ]
     },
     "execution_count": 2,
     "metadata": {},
     "output_type": "execute_result"
    }
   ],
   "source": [
    "# read in, then preview the data\n",
    "\n",
    "df = pd.read_csv(\"universal_studios_reviews.csv\")\n",
    "df.head()"
   ]
  },
  {
   "cell_type": "code",
   "execution_count": 3,
   "metadata": {},
   "outputs": [],
   "source": [
    "# copy the df for manipulation\n",
    "\n",
    "revs = df.copy()\n",
    "\n",
    "# assign reviews with rating > 3 positive sentiment (1), else negative sentiment (-1)\n",
    "\n",
    "revs['sentiment'] = revs['rating'].apply(lambda rating : +1 if rating > 3 else -1)"
   ]
  },
  {
   "cell_type": "code",
   "execution_count": 4,
   "metadata": {},
   "outputs": [],
   "source": [
    "# remove punctuation from review text\n",
    "\n",
    "def remove_punct(text):\n",
    "    txt = \"\".join(char for char in text if char not in (\"?\", \".\", \";\", \":\",  \"!\",'\"'))\n",
    "    return text\n",
    "\n",
    "revs['review_text'] = revs['review_text'].apply(remove_punct)"
   ]
  },
  {
   "cell_type": "code",
   "execution_count": 5,
   "metadata": {},
   "outputs": [],
   "source": [
    "# split dataset into training and test sets\n",
    "\n",
    "feature = revs[[\"review_text\"]]\n",
    "label = revs[[\"sentiment\"]]\n",
    "\n",
    "Xtrain, Xtest, ytrain, ytest = train_test_split(feature, label, test_size=0.2, random_state=3)"
   ]
  },
  {
   "cell_type": "code",
   "execution_count": 7,
   "metadata": {},
   "outputs": [],
   "source": [
    "# vectorize review text\n",
    "\n",
    "vect = CountVectorizer(token_pattern=r'\\b\\w+\\b', ngram_range = (1,2))\n",
    "\n",
    "train_set = vect.fit_transform(Xtrain['review_text'])\n",
    "test_set = vect.transform(Xtest['review_text'])"
   ]
  },
  {
   "cell_type": "code",
   "execution_count": 10,
   "metadata": {},
   "outputs": [
    {
     "name": "stderr",
     "output_type": "stream",
     "text": [
      "/Users/agushansky/opt/anaconda3/lib/python3.7/site-packages/sklearn/utils/validation.py:63: DataConversionWarning: A column-vector y was passed when a 1d array was expected. Please change the shape of y to (n_samples, ), for example using ravel().\n",
      "  return f(*args, **kwargs)\n"
     ]
    },
    {
     "name": "stdout",
     "output_type": "stream",
     "text": [
      "              precision    recall  f1-score   support\n",
      "\n",
      "          -1       0.67      0.73      0.70      1638\n",
      "           1       0.95      0.93      0.94      8543\n",
      "\n",
      "    accuracy                           0.90     10181\n",
      "   macro avg       0.81      0.83      0.82     10181\n",
      "weighted avg       0.90      0.90      0.90     10181\n",
      "\n"
     ]
    }
   ],
   "source": [
    "# create svm classifier\n",
    "\n",
    "svm = SGDClassifier(random_state=3, max_iter=200, class_weight = \"balanced\").fit(train_set, ytrain)\n",
    "\n",
    "# make predictions on test data, then generate classification report\n",
    "\n",
    "ypred_test = svm.predict(test_set)\n",
    "svm_cr = classification_report(ypred_test, ytest)\n",
    "print(svm_cr)"
   ]
  },
  {
   "cell_type": "code",
   "execution_count": 11,
   "metadata": {},
   "outputs": [
    {
     "name": "stderr",
     "output_type": "stream",
     "text": [
      "/Users/agushansky/opt/anaconda3/lib/python3.7/site-packages/sklearn/utils/validation.py:63: DataConversionWarning: A column-vector y was passed when a 1d array was expected. Please change the shape of y to (n_samples, ), for example using ravel().\n",
      "  return f(*args, **kwargs)\n"
     ]
    },
    {
     "name": "stdout",
     "output_type": "stream",
     "text": [
      "              precision    recall  f1-score   support\n",
      "\n",
      "          -1       0.72      0.72      0.72      1805\n",
      "           1       0.94      0.94      0.94      8376\n",
      "\n",
      "    accuracy                           0.90     10181\n",
      "   macro avg       0.83      0.83      0.83     10181\n",
      "weighted avg       0.90      0.90      0.90     10181\n",
      "\n"
     ]
    }
   ],
   "source": [
    "# create logistic regression classifier\n",
    "\n",
    "lr = LogisticRegression(random_state = 3, max_iter=200, solver='liblinear', class_weight = \"balanced\").fit(train_set, ytrain)\n",
    "\n",
    "# make predictions on test data, then generate classification report\n",
    "\n",
    "ypred_test = lr.predict(test_set)\n",
    "lr_cr = classification_report(ypred_test, ytest)\n",
    "print(lr_cr)"
   ]
  }
 ],
 "metadata": {
  "kernelspec": {
   "display_name": "Python 3",
   "language": "python",
   "name": "python3"
  },
  "language_info": {
   "codemirror_mode": {
    "name": "ipython",
    "version": 3
   },
   "file_extension": ".py",
   "mimetype": "text/x-python",
   "name": "python",
   "nbconvert_exporter": "python",
   "pygments_lexer": "ipython3",
   "version": "3.7.6"
  }
 },
 "nbformat": 4,
 "nbformat_minor": 4
}
